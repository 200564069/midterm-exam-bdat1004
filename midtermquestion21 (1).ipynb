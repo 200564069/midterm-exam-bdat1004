{
 "cells": [
  {
   "cell_type": "markdown",
   "id": "d25a82e4-86e9-45fb-a4bc-7797b07341c7",
   "metadata": {},
   "source": [
    "Question 21\n",
    "20\n",
    " Points\n",
    "In a jupyter notebook solve the following question. Please upload the notebook to GitHub and provide the link submission box below.\n",
    "\n",
    " \n",
    "\n",
    "__int()__: Constructor that takes as input a pair of Point objects that represent the ends points of the line segment\n",
    "\n",
    "Length():: returns the length if the segment \n",
    "\n",
    "Slope() returns the slope of the segment of none if the slope is unbounded \n",
    "\n",
    " \n",
    "\n",
    ">>> p1 = Point(3,4)\n",
    "\n",
    ">>> p2 = Point()\n",
    "\n",
    ">>> s = Segment(p1,p2)\n",
    "\n",
    ">>> s.length()\n",
    "\n",
    "5.0\n",
    "\n",
    ">>> s.slope()\n",
    "\n",
    "0.75"
   ]
  },
  {
   "cell_type": "code",
   "execution_count": 29,
   "id": "bd758c25-c571-45d3-8dd0-6edf5f4fd3d6",
   "metadata": {},
   "outputs": [
    {
     "name": "stdout",
     "output_type": "stream",
     "text": [
      "Length: 5.0\n",
      "Slope: 1.3333333333333333\n"
     ]
    }
   ],
   "source": [
    "class point:\n",
    "    def __init__(self,x=0,y=0):\n",
    "        self.x=x\n",
    "        self.y=y\n",
    "\n",
    "class segment:\n",
    "    def __init__(self,p1,p2):\n",
    "        self.p1=p1\n",
    "        self.p2=p2\n",
    "\n",
    "    def length(self):\n",
    "        return((self.p2.x-self.p1.x)**2+(self.p2.y-self.p1.y)**2)**0.5\n",
    "\n",
    "    def slope(self):\n",
    "        if self.p2.x-self.p1.x==0:\n",
    "            return None\n",
    "        else:\n",
    "            return (self.p2.x-self.p1.y)/(self.p2.x-self.p1.x)\n",
    "\n",
    "p1 = point(3,4)\n",
    "p2 = point()\n",
    "s = segment(p1,p2)\n",
    "print(\"Length:\",s.length())\n",
    "print(\"Slope:\",s.slope())\n",
    "\n",
    "        "
   ]
  },
  {
   "cell_type": "code",
   "execution_count": null,
   "id": "efbed8a7-1f1e-47f1-9980-f6e99131d98d",
   "metadata": {},
   "outputs": [],
   "source": []
  }
 ],
 "metadata": {
  "kernelspec": {
   "display_name": "Python 3 (ipykernel)",
   "language": "python",
   "name": "python3"
  },
  "language_info": {
   "codemirror_mode": {
    "name": "ipython",
    "version": 3
   },
   "file_extension": ".py",
   "mimetype": "text/x-python",
   "name": "python",
   "nbconvert_exporter": "python",
   "pygments_lexer": "ipython3",
   "version": "3.11.7"
  }
 },
 "nbformat": 4,
 "nbformat_minor": 5
}
