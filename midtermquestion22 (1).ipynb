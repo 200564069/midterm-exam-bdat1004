{
 "cells": [
  {
   "cell_type": "markdown",
   "id": "d5dd4f05-6213-462e-a51a-08d2002461e4",
   "metadata": {},
   "source": [
    "QUESTION 22.\n",
    "In a jupyter notebook solve the following question using both python and SQL. Please upload the notebook to GitHub and provide the link submission box below.\n",
    "\n",
    "\n",
    "\n",
    "+---------------+---------+\n",
    "| Column Name   | Type    |\n",
    "+---------------+---------+\n",
    "| id            | int     |\n",
    "| recordDate    | date    |\n",
    "| temperature   | int     |\n",
    "+---------------+---------+\n",
    "id is the column with unique values for this table.\n",
    "This table contains information about the temperature on a certain day.\n",
    " \n",
    " \n",
    "\n",
    "Write a solution to find all dates' Id with higher temperatures compared to its previous dates (yesterday).\n",
    "\n",
    "Return the result table in any order.\n",
    "\n",
    "Please use the following input Weather table for your solution. To receive full marks you will need to create the database, create the table, insert the data below and execute the SQL query.\n",
    "\n",
    " \n",
    "\n",
    "Input: \n",
    "Weather table:\n",
    "+----+------------+-------------+\n",
    "| id | recordDate | temperature |\n",
    "+----+------------+-------------+\n",
    "| 1  | 2015-01-01 | 10          |\n",
    "| 2  | 2015-01-02 | 25          |\n",
    "| 3  | 2015-01-03 | 20          |\n",
    "| 4  | 2015-01-04 | 30          |\n",
    "+----+------------+-------------+\n",
    "Output: \n",
    "+----+\n",
    "| id |\n",
    "+----+\n",
    "| 2  |\n",
    "| 4  |\n",
    "+----+\n",
    "Explanation: \n",
    "In 2015-01-02, the temperature was higher than the previous day (10 -> 25).\n",
    "In 2015-01-04, the temperature was higher than the previous day (20 -> 30).\n",
    "\n",
    "\n"
   ]
  },
  {
   "cell_type": "code",
   "execution_count": 11,
   "id": "b9b46c96-56e0-4ac3-978d-f4efba801a47",
   "metadata": {},
   "outputs": [],
   "source": [
    " \n",
    "import sqlite3\n",
    "\n",
    "# Creating the database \n",
    "conn = sqlite3.connect('weather_data.db')\n",
    "cur = conn.cursor()"
   ]
  },
  {
   "cell_type": "code",
   "execution_count": 12,
   "id": "2869a2aa-cf41-417b-826f-5ebfbbf19acf",
   "metadata": {},
   "outputs": [
    {
     "data": {
      "text/plain": [
       "<sqlite3.Cursor at 0x238d9fa39c0>"
      ]
     },
     "execution_count": 12,
     "metadata": {},
     "output_type": "execute_result"
    }
   ],
   "source": [
    "# Deleting if the table already exists\n",
    "cur.execute('''DROP TABLE IF EXISTS Weather''')\n",
    "\n",
    "# Creating the table\n",
    "cur.execute('''\n",
    "    CREATE TABLE Weather (\n",
    "        id INTEGER PRIMARY KEY,\n",
    "        recordDate DATE,\n",
    "        temperature INTEGER)\n",
    "        ''')"
   ]
  },
  {
   "cell_type": "code",
   "execution_count": 13,
   "id": "6d255a4f-d61d-4417-9787-54a581deb2e6",
   "metadata": {},
   "outputs": [],
   "source": [
    "given_data = [\n",
    "    (1, '2015-01-01', 10),\n",
    "    (2, '2015-01-02', 25),\n",
    "    (3, '2015-01-03', 20),\n",
    "    (4, '2015-01-04', 30)\n",
    "]\n",
    "\n",
    "# Inserting the data into the table\n",
    "cur.executemany('INSERT INTO Weather (id, recordDate, temperature) VALUES (?, ?, ?)', given_data)\n",
    "conn.commit()"
   ]
  },
  {
   "cell_type": "code",
   "execution_count": 15,
   "id": "b0b58836-c716-421c-928a-55bc82e382aa",
   "metadata": {},
   "outputs": [
    {
     "name": "stdout",
     "output_type": "stream",
     "text": [
      "id\n",
      "2\n",
      "4\n"
     ]
    }
   ],
   "source": [
    " # Defining the SQL query to solve the problem\n",
    "query = '''\n",
    "        SELECT w1.id\n",
    "        FROM Weather w1\n",
    "        JOIN Weather w2 ON DATE(w1.recordDate) = DATE(w2.recordDate, '+1 day')\n",
    "        WHERE w1.temperature > w2.temperature\n",
    "        '''\n",
    "\n",
    "cur.execute(query)\n",
    "\n",
    "# Printing the SQL Query results\n",
    "rows = cur.fetchall()\n",
    "print(\"id\")\n",
    "for row in rows:\n",
    "    print(row[0])\n",
    "    \n",
    "# Closing the database connection\n",
    "conn.close()"
   ]
  },
  {
   "cell_type": "code",
   "execution_count": null,
   "id": "e5b7449d-ec34-4ebc-907b-7b5731169ade",
   "metadata": {},
   "outputs": [],
   "source": []
  }
 ],
 "metadata": {
  "kernelspec": {
   "display_name": "Python 3 (ipykernel)",
   "language": "python",
   "name": "python3"
  },
  "language_info": {
   "codemirror_mode": {
    "name": "ipython",
    "version": 3
   },
   "file_extension": ".py",
   "mimetype": "text/x-python",
   "name": "python",
   "nbconvert_exporter": "python",
   "pygments_lexer": "ipython3",
   "version": "3.11.7"
  }
 },
 "nbformat": 4,
 "nbformat_minor": 5
}
